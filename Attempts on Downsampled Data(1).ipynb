{
 "cells": [
  {
   "cell_type": "code",
   "execution_count": null,
   "id": "TlchdC64k78r",
   "metadata": {
    "colab": {
     "base_uri": "https://localhost:8080/"
    },
    "executionInfo": {
     "elapsed": 1243,
     "status": "ok",
     "timestamp": 1724319529947,
     "user": {
      "displayName": "Vidushinie S.K.",
      "userId": "11550788826372602114"
     },
     "user_tz": -330
    },
    "id": "TlchdC64k78r",
    "outputId": "67c25c1f-522f-497c-bc76-38c755f7fc9e"
   },
   "outputs": [
    {
     "name": "stdout",
     "output_type": "stream",
     "text": [
      "Thu Aug 22 09:31:55 2024       \n",
      "+---------------------------------------------------------------------------------------+\n",
      "| NVIDIA-SMI 535.104.05             Driver Version: 535.104.05   CUDA Version: 12.2     |\n",
      "|-----------------------------------------+----------------------+----------------------+\n",
      "| GPU  Name                 Persistence-M | Bus-Id        Disp.A | Volatile Uncorr. ECC |\n",
      "| Fan  Temp   Perf          Pwr:Usage/Cap |         Memory-Usage | GPU-Util  Compute M. |\n",
      "|                                         |                      |               MIG M. |\n",
      "|=========================================+======================+======================|\n",
      "|   0  Tesla T4                       Off | 00000000:00:04.0 Off |                    0 |\n",
      "| N/A   35C    P8               9W /  70W |      0MiB / 15360MiB |      0%      Default |\n",
      "|                                         |                      |                  N/A |\n",
      "+-----------------------------------------+----------------------+----------------------+\n",
      "                                                                                         \n",
      "+---------------------------------------------------------------------------------------+\n",
      "| Processes:                                                                            |\n",
      "|  GPU   GI   CI        PID   Type   Process name                            GPU Memory |\n",
      "|        ID   ID                                                             Usage      |\n",
      "|=======================================================================================|\n",
      "|  No running processes found                                                           |\n",
      "+---------------------------------------------------------------------------------------+\n"
     ]
    }
   ],
   "source": [
    "!nvidia-smi\n"
   ]
  },
  {
   "cell_type": "code",
   "execution_count": 1,
   "id": "3ea43d65-6307-4223-8555-c31ed142c057",
   "metadata": {
    "executionInfo": {
     "elapsed": 364,
     "status": "ok",
     "timestamp": 1724395377613,
     "user": {
      "displayName": "Vidushinie S.K.",
      "userId": "11550788826372602114"
     },
     "user_tz": -330
    },
    "id": "3ea43d65-6307-4223-8555-c31ed142c057"
   },
   "outputs": [],
   "source": [
    "# Standard libraries\n",
    "import sys  # System-specific parameters and functions\n",
    "import os   # Miscellaneous operating system interfaces\n",
    "import warnings  # Warning control\n",
    "warnings.filterwarnings(\"ignore\")\n",
    "\n",
    "# Data manipulation\n",
    "import pandas as pd  # Data manipulation and analysis\n",
    "import numpy as np  # Numerical operations\n",
    "\n",
    "# Visualization\n",
    "import matplotlib.pyplot as plt  # Plotting library\n",
    "import seaborn as sns  # Statistical data visualization\n",
    "from matplotlib.colors import ListedColormap  # Colormap utilities\n",
    "\n",
    "# Model Helpers\n",
    "from sklearn.preprocessing import OneHotEncoder, LabelEncoder, StandardScaler  # Preprocessing tools\n",
    "from sklearn import model_selection, metrics, preprocessing  # Model selection, evaluation, and preprocessing\n",
    "from sklearn.model_selection import train_test_split, cross_val_score, GridSearchCV  # Model selection and evaluation\n",
    "from sklearn.tree import DecisionTreeClassifier  # Decision tree classifier\n",
    "from sklearn.ensemble import RandomForestClassifier, GradientBoostingClassifier, AdaBoostClassifier  # Ensemble methods\n",
    "from xgboost import XGBClassifier  # Extreme Gradient Boosting\n",
    "from sklearn.neighbors import KNeighborsClassifier  # k-Nearest Neighbors\n",
    "from sklearn.neural_network import MLPClassifier  # Multi-layer Perceptron\n",
    "\n",
    "# Statistical analysis\n",
    "from statsmodels.stats.outliers_influence import variance_inflation_factor  # Variance inflation factor\n",
    "from scipy.stats import pointbiserialr, chi2_contingency, spearmanr, entropy  # Statistical functions\n",
    "from statsmodels.graphics.gofplots import qqplot  # Q-Q plot\n",
    "from collections import Counter  # Container datatypes\n",
    "\n",
    "# Tabulate\n",
    "from tabulate import tabulate  # Pretty-print tabular data\n",
    "\n",
    "# Set visualization style\n",
    "#sns.set()  # Set Seaborn default style\n",
    "#plt.style.use('ggplot')  # Set ggplot style for matplotlib\n",
    "\n",
    "# Models\n",
    "from sklearn.linear_model import LogisticRegression\n",
    "from sklearn.svm import SVC\n",
    "from sklearn.tree import DecisionTreeClassifier\n",
    "from sklearn.ensemble import RandomForestClassifier\n",
    "from sklearn.neighbors import KNeighborsClassifier\n",
    "import xgboost as xgb\n",
    "from xgboost import XGBClassifier\n",
    "from sklearn.ensemble import GradientBoostingClassifier\n",
    "from sklearn.ensemble import AdaBoostClassifier\n",
    "from sklearn.neural_network import MLPClassifier\n",
    "from sklearn.naive_bayes import GaussianNB\n",
    "\n",
    "# Balancing techniques\n",
    "from imblearn.over_sampling import SMOTE\n",
    "from sklearn.utils import resample"
   ]
  },
  {
   "cell_type": "raw",
   "id": "0281db1f-08e8-44b0-811b-35b8f3a7b77f",
   "metadata": {
    "colab": {
     "base_uri": "https://localhost:8080/",
     "height": 73
    },
    "executionInfo": {
     "elapsed": 30062,
     "status": "ok",
     "timestamp": 1724385107995,
     "user": {
      "displayName": "Vidushinie S.K.",
      "userId": "11550788826372602114"
     },
     "user_tz": -330
    },
    "id": "4IR0r9vksnTz",
    "outputId": "1ed392b1-fd22-4ade-cb6d-f4adca400c83"
   },
   "source": [
    "\n",
    "from google.colab import files\n",
    "\n",
    "\n",
    "uploaded = files.upload()"
   ]
  },
  {
   "cell_type": "code",
   "execution_count": 4,
   "id": "2e715a44-614a-4601-b876-6949f9281072",
   "metadata": {
    "colab": {
     "base_uri": "https://localhost:8080/",
     "height": 256
    },
    "executionInfo": {
     "elapsed": 360,
     "status": "ok",
     "timestamp": 1724385210761,
     "user": {
      "displayName": "Vidushinie S.K.",
      "userId": "11550788826372602114"
     },
     "user_tz": -330
    },
    "id": "2e715a44-614a-4601-b876-6949f9281072",
    "outputId": "f5be1628-f294-4c2b-bfcd-d330b9d5b33d"
   },
   "outputs": [
    {
     "data": {
      "text/html": [
       "<div>\n",
       "<style scoped>\n",
       "    .dataframe tbody tr th:only-of-type {\n",
       "        vertical-align: middle;\n",
       "    }\n",
       "\n",
       "    .dataframe tbody tr th {\n",
       "        vertical-align: top;\n",
       "    }\n",
       "\n",
       "    .dataframe thead th {\n",
       "        text-align: right;\n",
       "    }\n",
       "</style>\n",
       "<table border=\"1\" class=\"dataframe\">\n",
       "  <thead>\n",
       "    <tr style=\"text-align: right;\">\n",
       "      <th></th>\n",
       "      <th>age_of_driver</th>\n",
       "      <th>gender</th>\n",
       "      <th>marital_status</th>\n",
       "      <th>safty_rating</th>\n",
       "      <th>annual_income</th>\n",
       "      <th>high_education_ind</th>\n",
       "      <th>address_change_ind</th>\n",
       "      <th>living_status</th>\n",
       "      <th>zip_code</th>\n",
       "      <th>claim_day_of_week</th>\n",
       "      <th>...</th>\n",
       "      <th>claim_est_payout</th>\n",
       "      <th>age_of_vehicle</th>\n",
       "      <th>vehicle_category</th>\n",
       "      <th>vehicle_price</th>\n",
       "      <th>vehicle_color</th>\n",
       "      <th>vehicle_weight</th>\n",
       "      <th>fraud</th>\n",
       "      <th>Month</th>\n",
       "      <th>Day</th>\n",
       "      <th>Year</th>\n",
       "    </tr>\n",
       "  </thead>\n",
       "  <tbody>\n",
       "    <tr>\n",
       "      <th>0</th>\n",
       "      <td>46</td>\n",
       "      <td>1</td>\n",
       "      <td>1.0</td>\n",
       "      <td>85</td>\n",
       "      <td>38301</td>\n",
       "      <td>1</td>\n",
       "      <td>1</td>\n",
       "      <td>1</td>\n",
       "      <td>80006</td>\n",
       "      <td>4</td>\n",
       "      <td>...</td>\n",
       "      <td>7530.940993</td>\n",
       "      <td>9.0</td>\n",
       "      <td>0</td>\n",
       "      <td>12885.45235</td>\n",
       "      <td>6</td>\n",
       "      <td>16161.33381</td>\n",
       "      <td>0</td>\n",
       "      <td>12</td>\n",
       "      <td>16</td>\n",
       "      <td>2016</td>\n",
       "    </tr>\n",
       "    <tr>\n",
       "      <th>1</th>\n",
       "      <td>21</td>\n",
       "      <td>0</td>\n",
       "      <td>0.0</td>\n",
       "      <td>75</td>\n",
       "      <td>30445</td>\n",
       "      <td>0</td>\n",
       "      <td>1</td>\n",
       "      <td>1</td>\n",
       "      <td>15021</td>\n",
       "      <td>3</td>\n",
       "      <td>...</td>\n",
       "      <td>2966.024895</td>\n",
       "      <td>4.0</td>\n",
       "      <td>2</td>\n",
       "      <td>29429.45218</td>\n",
       "      <td>6</td>\n",
       "      <td>28691.96422</td>\n",
       "      <td>0</td>\n",
       "      <td>2</td>\n",
       "      <td>12</td>\n",
       "      <td>2015</td>\n",
       "    </tr>\n",
       "    <tr>\n",
       "      <th>2</th>\n",
       "      <td>49</td>\n",
       "      <td>0</td>\n",
       "      <td>0.0</td>\n",
       "      <td>87</td>\n",
       "      <td>38923</td>\n",
       "      <td>0</td>\n",
       "      <td>1</td>\n",
       "      <td>0</td>\n",
       "      <td>20158</td>\n",
       "      <td>1</td>\n",
       "      <td>...</td>\n",
       "      <td>6283.888333</td>\n",
       "      <td>3.0</td>\n",
       "      <td>0</td>\n",
       "      <td>21701.18195</td>\n",
       "      <td>6</td>\n",
       "      <td>22090.94758</td>\n",
       "      <td>1</td>\n",
       "      <td>12</td>\n",
       "      <td>6</td>\n",
       "      <td>2016</td>\n",
       "    </tr>\n",
       "    <tr>\n",
       "      <th>3</th>\n",
       "      <td>58</td>\n",
       "      <td>0</td>\n",
       "      <td>1.0</td>\n",
       "      <td>58</td>\n",
       "      <td>40605</td>\n",
       "      <td>1</td>\n",
       "      <td>0</td>\n",
       "      <td>0</td>\n",
       "      <td>15024</td>\n",
       "      <td>3</td>\n",
       "      <td>...</td>\n",
       "      <td>6169.747994</td>\n",
       "      <td>4.0</td>\n",
       "      <td>1</td>\n",
       "      <td>13198.27344</td>\n",
       "      <td>3</td>\n",
       "      <td>38329.58106</td>\n",
       "      <td>1</td>\n",
       "      <td>5</td>\n",
       "      <td>5</td>\n",
       "      <td>2016</td>\n",
       "    </tr>\n",
       "    <tr>\n",
       "      <th>4</th>\n",
       "      <td>38</td>\n",
       "      <td>1</td>\n",
       "      <td>1.0</td>\n",
       "      <td>95</td>\n",
       "      <td>36380</td>\n",
       "      <td>1</td>\n",
       "      <td>0</td>\n",
       "      <td>1</td>\n",
       "      <td>50034</td>\n",
       "      <td>1</td>\n",
       "      <td>...</td>\n",
       "      <td>4541.387150</td>\n",
       "      <td>7.0</td>\n",
       "      <td>1</td>\n",
       "      <td>38060.21122</td>\n",
       "      <td>2</td>\n",
       "      <td>25876.56319</td>\n",
       "      <td>0</td>\n",
       "      <td>10</td>\n",
       "      <td>27</td>\n",
       "      <td>2015</td>\n",
       "    </tr>\n",
       "  </tbody>\n",
       "</table>\n",
       "<p>5 rows × 26 columns</p>\n",
       "</div>"
      ],
      "text/plain": [
       "   age_of_driver  gender  marital_status  safty_rating  annual_income  \\\n",
       "0             46       1             1.0            85          38301   \n",
       "1             21       0             0.0            75          30445   \n",
       "2             49       0             0.0            87          38923   \n",
       "3             58       0             1.0            58          40605   \n",
       "4             38       1             1.0            95          36380   \n",
       "\n",
       "   high_education_ind  address_change_ind  living_status  zip_code  \\\n",
       "0                   1                   1              1     80006   \n",
       "1                   0                   1              1     15021   \n",
       "2                   0                   1              0     20158   \n",
       "3                   1                   0              0     15024   \n",
       "4                   1                   0              1     50034   \n",
       "\n",
       "   claim_day_of_week  ...  claim_est_payout  age_of_vehicle  vehicle_category  \\\n",
       "0                  4  ...       7530.940993             9.0                 0   \n",
       "1                  3  ...       2966.024895             4.0                 2   \n",
       "2                  1  ...       6283.888333             3.0                 0   \n",
       "3                  3  ...       6169.747994             4.0                 1   \n",
       "4                  1  ...       4541.387150             7.0                 1   \n",
       "\n",
       "   vehicle_price  vehicle_color  vehicle_weight  fraud  Month  Day  Year  \n",
       "0    12885.45235              6     16161.33381      0     12   16  2016  \n",
       "1    29429.45218              6     28691.96422      0      2   12  2015  \n",
       "2    21701.18195              6     22090.94758      1     12    6  2016  \n",
       "3    13198.27344              3     38329.58106      1      5    5  2016  \n",
       "4    38060.21122              2     25876.56319      0     10   27  2015  \n",
       "\n",
       "[5 rows x 26 columns]"
      ]
     },
     "execution_count": 4,
     "metadata": {},
     "output_type": "execute_result"
    }
   ],
   "source": [
    "#import encoded dataset\n",
    "import io\n",
    "#df = pd.read_csv(\"/content/training data.csv\")\n",
    "#df.head()\n",
    "encoded_df = pd.read_csv(\"encoded_df.csv\")\n",
    "encoded_df.head()"
   ]
  },
  {
   "cell_type": "code",
   "execution_count": 5,
   "id": "c6a73227-dd93-4476-9de0-a1bf6a76305f",
   "metadata": {
    "id": "c6a73227-dd93-4476-9de0-a1bf6a76305f"
   },
   "outputs": [],
   "source": [
    "X=encoded_df.drop(columns=['fraud'])\n",
    "y=encoded_df['fraud']\n",
    "\n",
    "#20% allocated for test data and 80% for train data\n",
    "X_train, X_test, y_train, y_test = train_test_split(X, y, test_size=0.2, random_state=28)"
   ]
  },
  {
   "cell_type": "code",
   "execution_count": 6,
   "id": "e86749e6-475c-4b7d-b18d-51fdf49737ae",
   "metadata": {
    "id": "e86749e6-475c-4b7d-b18d-51fdf49737ae"
   },
   "outputs": [],
   "source": [
    "train = pd.concat([X_train, y_train], axis=1)\n",
    "test = pd.concat([X_test, y_test], axis=1)"
   ]
  },
  {
   "cell_type": "code",
   "execution_count": 7,
   "id": "495d6264-0b92-4dc6-8546-77d1f3554547",
   "metadata": {
    "colab": {
     "base_uri": "https://localhost:8080/"
    },
    "executionInfo": {
     "elapsed": 3,
     "status": "ok",
     "timestamp": 1724385216681,
     "user": {
      "displayName": "Vidushinie S.K.",
      "userId": "11550788826372602114"
     },
     "user_tz": -330
    },
    "id": "495d6264-0b92-4dc6-8546-77d1f3554547",
    "outputId": "cc00b9bf-8224-46d2-bb08-cc3c7a11885b"
   },
   "outputs": [
    {
     "name": "stdout",
     "output_type": "stream",
     "text": [
      "Continuous Variables in X_train:\n",
      "Index(['age_of_driver', 'gender', 'marital_status', 'safty_rating',\n",
      "       'annual_income', 'high_education_ind', 'address_change_ind',\n",
      "       'living_status', 'zip_code', 'claim_day_of_week', 'accident_site',\n",
      "       'past_num_of_claims', 'witness_present_ind', 'liab_prct', 'channel',\n",
      "       'policy_report_filed_ind', 'claim_est_payout', 'age_of_vehicle',\n",
      "       'vehicle_category', 'vehicle_price', 'vehicle_color', 'vehicle_weight',\n",
      "       'fraud', 'Month', 'Day', 'Year'],\n",
      "      dtype='object')\n",
      "\n",
      "Categorical Variables in X train:\n",
      "[]\n",
      "\n",
      "Date_Month_Year:\n",
      "Index([], dtype='object')\n"
     ]
    }
   ],
   "source": [
    "continuous_vars = encoded_df.select_dtypes(include=['int64', 'float64']).columns\n",
    "Continuous_Variables_in_X_train = continuous_vars\n",
    "\n",
    "categorical_vars = encoded_df.select_dtypes(include=['object', 'category']).columns\n",
    "Categorical_Variables_in_X_train = [var for var in categorical_vars if var != 'fraud']\n",
    "\n",
    "Date_Month_Year= encoded_df.select_dtypes(include=['int32']).columns\n",
    "\n",
    "# Display the variables\n",
    "print(\"Continuous Variables in X_train:\")\n",
    "print(Continuous_Variables_in_X_train)\n",
    "print(\"\\nCategorical Variables in X train:\")\n",
    "print(Categorical_Variables_in_X_train)\n",
    "print(\"\\nDate_Month_Year:\")\n",
    "print(Date_Month_Year)"
   ]
  },
  {
   "cell_type": "markdown",
   "id": "b6e526b3-80bd-47b2-b558-f7cdf6087f49",
   "metadata": {
    "id": "b6e526b3-80bd-47b2-b558-f7cdf6087f49"
   },
   "source": [
    "#### checking imbalance of response"
   ]
  },
  {
   "cell_type": "code",
   "execution_count": 8,
   "id": "92d86ff0-6cf3-4628-895b-1fdce2c6620b",
   "metadata": {
    "colab": {
     "base_uri": "https://localhost:8080/"
    },
    "executionInfo": {
     "elapsed": 366,
     "status": "ok",
     "timestamp": 1724385219587,
     "user": {
      "displayName": "Vidushinie S.K.",
      "userId": "11550788826372602114"
     },
     "user_tz": -330
    },
    "id": "92d86ff0-6cf3-4628-895b-1fdce2c6620b",
    "outputId": "40807952-67b5-4523-8df9-2ab37f6605c8"
   },
   "outputs": [
    {
     "name": "stdout",
     "output_type": "stream",
     "text": [
      "Total not committed fraud :  15040 and its percentage is 84.32 %\n",
      "Total committed fraud :  2796 and its percentage is 15.68 %\n"
     ]
    }
   ],
   "source": [
    "print ('Total not committed fraud :  {} and its percentage is {} %'.format(encoded_df.fraud.value_counts()[0], round(encoded_df.fraud.value_counts()[0]/encoded_df.fraud.value_counts().sum()*100,2)) )\n",
    "print ('Total committed fraud :  {} and its percentage is {} %'.format(encoded_df.fraud.value_counts()[1], round(encoded_df.fraud.value_counts()[1]/encoded_df.fraud.value_counts().sum()*100,2)) )"
   ]
  },
  {
   "cell_type": "markdown",
   "id": "guiIeL2A15m-",
   "metadata": {
    "id": "guiIeL2A15m-"
   },
   "source": [
    "## --------------------------------------------------------------------------------------------------------"
   ]
  },
  {
   "cell_type": "code",
   "execution_count": 9,
   "id": "Maan4DUW1w2l",
   "metadata": {
    "colab": {
     "base_uri": "https://localhost:8080/",
     "height": 256
    },
    "executionInfo": {
     "elapsed": 423,
     "status": "ok",
     "timestamp": 1724385222672,
     "user": {
      "displayName": "Vidushinie S.K.",
      "userId": "11550788826372602114"
     },
     "user_tz": -330
    },
    "id": "Maan4DUW1w2l",
    "outputId": "fd0bb942-8f25-47c1-de6b-7d96747f60fc"
   },
   "outputs": [
    {
     "data": {
      "text/html": [
       "<div>\n",
       "<style scoped>\n",
       "    .dataframe tbody tr th:only-of-type {\n",
       "        vertical-align: middle;\n",
       "    }\n",
       "\n",
       "    .dataframe tbody tr th {\n",
       "        vertical-align: top;\n",
       "    }\n",
       "\n",
       "    .dataframe thead th {\n",
       "        text-align: right;\n",
       "    }\n",
       "</style>\n",
       "<table border=\"1\" class=\"dataframe\">\n",
       "  <thead>\n",
       "    <tr style=\"text-align: right;\">\n",
       "      <th></th>\n",
       "      <th>age_of_driver</th>\n",
       "      <th>gender</th>\n",
       "      <th>marital_status</th>\n",
       "      <th>safty_rating</th>\n",
       "      <th>annual_income</th>\n",
       "      <th>high_education_ind</th>\n",
       "      <th>address_change_ind</th>\n",
       "      <th>living_status</th>\n",
       "      <th>zip_code</th>\n",
       "      <th>claim_day_of_week</th>\n",
       "      <th>...</th>\n",
       "      <th>claim_est_payout</th>\n",
       "      <th>age_of_vehicle</th>\n",
       "      <th>vehicle_category</th>\n",
       "      <th>vehicle_price</th>\n",
       "      <th>vehicle_color</th>\n",
       "      <th>vehicle_weight</th>\n",
       "      <th>fraud</th>\n",
       "      <th>Month</th>\n",
       "      <th>Day</th>\n",
       "      <th>Year</th>\n",
       "    </tr>\n",
       "  </thead>\n",
       "  <tbody>\n",
       "    <tr>\n",
       "      <th>0</th>\n",
       "      <td>46</td>\n",
       "      <td>1</td>\n",
       "      <td>1.0</td>\n",
       "      <td>85</td>\n",
       "      <td>38301</td>\n",
       "      <td>1</td>\n",
       "      <td>1</td>\n",
       "      <td>1</td>\n",
       "      <td>80006</td>\n",
       "      <td>4</td>\n",
       "      <td>...</td>\n",
       "      <td>7530.940993</td>\n",
       "      <td>9.0</td>\n",
       "      <td>0</td>\n",
       "      <td>12885.45235</td>\n",
       "      <td>6</td>\n",
       "      <td>16161.33381</td>\n",
       "      <td>0</td>\n",
       "      <td>12</td>\n",
       "      <td>16</td>\n",
       "      <td>2016</td>\n",
       "    </tr>\n",
       "    <tr>\n",
       "      <th>1</th>\n",
       "      <td>21</td>\n",
       "      <td>0</td>\n",
       "      <td>0.0</td>\n",
       "      <td>75</td>\n",
       "      <td>30445</td>\n",
       "      <td>0</td>\n",
       "      <td>1</td>\n",
       "      <td>1</td>\n",
       "      <td>15021</td>\n",
       "      <td>3</td>\n",
       "      <td>...</td>\n",
       "      <td>2966.024895</td>\n",
       "      <td>4.0</td>\n",
       "      <td>2</td>\n",
       "      <td>29429.45218</td>\n",
       "      <td>6</td>\n",
       "      <td>28691.96422</td>\n",
       "      <td>0</td>\n",
       "      <td>2</td>\n",
       "      <td>12</td>\n",
       "      <td>2015</td>\n",
       "    </tr>\n",
       "    <tr>\n",
       "      <th>2</th>\n",
       "      <td>49</td>\n",
       "      <td>0</td>\n",
       "      <td>0.0</td>\n",
       "      <td>87</td>\n",
       "      <td>38923</td>\n",
       "      <td>0</td>\n",
       "      <td>1</td>\n",
       "      <td>0</td>\n",
       "      <td>20158</td>\n",
       "      <td>1</td>\n",
       "      <td>...</td>\n",
       "      <td>6283.888333</td>\n",
       "      <td>3.0</td>\n",
       "      <td>0</td>\n",
       "      <td>21701.18195</td>\n",
       "      <td>6</td>\n",
       "      <td>22090.94758</td>\n",
       "      <td>1</td>\n",
       "      <td>12</td>\n",
       "      <td>6</td>\n",
       "      <td>2016</td>\n",
       "    </tr>\n",
       "    <tr>\n",
       "      <th>3</th>\n",
       "      <td>58</td>\n",
       "      <td>0</td>\n",
       "      <td>1.0</td>\n",
       "      <td>58</td>\n",
       "      <td>40605</td>\n",
       "      <td>1</td>\n",
       "      <td>0</td>\n",
       "      <td>0</td>\n",
       "      <td>15024</td>\n",
       "      <td>3</td>\n",
       "      <td>...</td>\n",
       "      <td>6169.747994</td>\n",
       "      <td>4.0</td>\n",
       "      <td>1</td>\n",
       "      <td>13198.27344</td>\n",
       "      <td>3</td>\n",
       "      <td>38329.58106</td>\n",
       "      <td>1</td>\n",
       "      <td>5</td>\n",
       "      <td>5</td>\n",
       "      <td>2016</td>\n",
       "    </tr>\n",
       "    <tr>\n",
       "      <th>4</th>\n",
       "      <td>38</td>\n",
       "      <td>1</td>\n",
       "      <td>1.0</td>\n",
       "      <td>95</td>\n",
       "      <td>36380</td>\n",
       "      <td>1</td>\n",
       "      <td>0</td>\n",
       "      <td>1</td>\n",
       "      <td>50034</td>\n",
       "      <td>1</td>\n",
       "      <td>...</td>\n",
       "      <td>4541.387150</td>\n",
       "      <td>7.0</td>\n",
       "      <td>1</td>\n",
       "      <td>38060.21122</td>\n",
       "      <td>2</td>\n",
       "      <td>25876.56319</td>\n",
       "      <td>0</td>\n",
       "      <td>10</td>\n",
       "      <td>27</td>\n",
       "      <td>2015</td>\n",
       "    </tr>\n",
       "  </tbody>\n",
       "</table>\n",
       "<p>5 rows × 26 columns</p>\n",
       "</div>"
      ],
      "text/plain": [
       "   age_of_driver  gender  marital_status  safty_rating  annual_income  \\\n",
       "0             46       1             1.0            85          38301   \n",
       "1             21       0             0.0            75          30445   \n",
       "2             49       0             0.0            87          38923   \n",
       "3             58       0             1.0            58          40605   \n",
       "4             38       1             1.0            95          36380   \n",
       "\n",
       "   high_education_ind  address_change_ind  living_status  zip_code  \\\n",
       "0                   1                   1              1     80006   \n",
       "1                   0                   1              1     15021   \n",
       "2                   0                   1              0     20158   \n",
       "3                   1                   0              0     15024   \n",
       "4                   1                   0              1     50034   \n",
       "\n",
       "   claim_day_of_week  ...  claim_est_payout  age_of_vehicle  vehicle_category  \\\n",
       "0                  4  ...       7530.940993             9.0                 0   \n",
       "1                  3  ...       2966.024895             4.0                 2   \n",
       "2                  1  ...       6283.888333             3.0                 0   \n",
       "3                  3  ...       6169.747994             4.0                 1   \n",
       "4                  1  ...       4541.387150             7.0                 1   \n",
       "\n",
       "   vehicle_price  vehicle_color  vehicle_weight  fraud  Month  Day  Year  \n",
       "0    12885.45235              6     16161.33381      0     12   16  2016  \n",
       "1    29429.45218              6     28691.96422      0      2   12  2015  \n",
       "2    21701.18195              6     22090.94758      1     12    6  2016  \n",
       "3    13198.27344              3     38329.58106      1      5    5  2016  \n",
       "4    38060.21122              2     25876.56319      0     10   27  2015  \n",
       "\n",
       "[5 rows x 26 columns]"
      ]
     },
     "execution_count": 9,
     "metadata": {},
     "output_type": "execute_result"
    }
   ],
   "source": [
    "df_backup = encoded_df.copy()\n",
    "df_backup.head()"
   ]
  },
  {
   "cell_type": "markdown",
   "id": "Rv8Pssbj1QqP",
   "metadata": {
    "id": "Rv8Pssbj1QqP"
   },
   "source": [
    "## Downsampled"
   ]
  },
  {
   "cell_type": "code",
   "execution_count": 14,
   "id": "LQEhNnFX1aCi",
   "metadata": {
    "id": "LQEhNnFX1aCi"
   },
   "outputs": [],
   "source": [
    "X_backup = df_backup.drop(columns=['fraud'])\n",
    "y_backup = df_backup['fraud']\n",
    "\n",
    "#20% allocated for test data and 80% for train data\n",
    "X_train_backup, X_test_backup, y_train_backup, y_test_backup = train_test_split(X_backup, y_backup, test_size=0.2, random_state=28)"
   ]
  },
  {
   "cell_type": "code",
   "execution_count": 15,
   "id": "2a9ed598-268d-417d-ba0b-72a784840c4b",
   "metadata": {},
   "outputs": [
    {
     "name": "stdout",
     "output_type": "stream",
     "text": [
      "Original class distribution: Counter({0: 15040, 1: 2796})\n"
     ]
    }
   ],
   "source": [
    "#Class Imbalanced\n",
    "from collections import Counter\n",
    "from imblearn.under_sampling import RandomUnderSampler\n",
    "from imblearn.over_sampling import RandomOverSampler,SMOTE\n",
    "from sklearn.model_selection import train_test_split\n",
    "from sklearn.linear_model import LogisticRegression\n",
    "from sklearn.metrics import classification_report,confusion_matrix\n",
    "print(\"Original class distribution:\", Counter(y))"
   ]
  },
  {
   "cell_type": "code",
   "execution_count": 16,
   "id": "7f1855c4-7fea-4591-97ee-81cb9311f498",
   "metadata": {},
   "outputs": [
    {
     "name": "stdout",
     "output_type": "stream",
     "text": [
      "SMOTE class distribution: Counter({0: 12036, 1: 12036})\n"
     ]
    }
   ],
   "source": [
    "#SMOTE\n",
    "smote = SMOTE(random_state=42)\n",
    "X_resampled_smote, y_resampled_smote =smote.fit_resample(X_train, y_train)\n",
    "print(\"SMOTE class distribution:\",\n",
    "Counter(y_resampled_smote))"
   ]
  },
  {
   "cell_type": "code",
   "execution_count": 17,
   "id": "04a9b00f-c8f0-4de1-98c1-1bef72b442b3",
   "metadata": {},
   "outputs": [
    {
     "data": {
      "text/plain": [
       "<function __main__.plot_class_distribution(y, title)>"
      ]
     },
     "execution_count": 17,
     "metadata": {},
     "output_type": "execute_result"
    }
   ],
   "source": [
    "def plot_class_distribution(y, title):\n",
    "    plt.figure(figsize=(6,4))\n",
    "    plt.bar(Counter(y).keys(), Counter(y).values(),\n",
    "    color=['blue', 'orange'])\n",
    "    plt.title(title)\n",
    "    plt.xlabel('Class')\n",
    "    plt.ylabel('Number of instances')\n",
    "    plt.show()\n",
    "\n",
    "plot_class_distribution"
   ]
  },
  {
   "cell_type": "code",
   "execution_count": 19,
   "id": "30f4ecb0-4eff-4232-9f2d-4fff1116e34f",
   "metadata": {},
   "outputs": [
    {
     "name": "stdout",
     "output_type": "stream",
     "text": [
      "Original class distribution: Counter({0: 12036, 1: 2232})\n"
     ]
    },
    {
     "data": {
      "image/png": "[encoded data removed]",
      "text/plain": [
       "<Figure size 600x400 with 1 Axes>"
      ]
     },
     "metadata": {},
     "output_type": "display_data"
    },
    {
     "name": "stdout",
     "output_type": "stream",
     "text": [
      "SMOTE class distribution: Counter({0: 12036, 1: 12036})\n"
     ]
    },
    {
     "data": {
      "image/png": "[encoded data removed]",
      "text/plain": [
       "<Figure size 600x400 with 1 Axes>"
      ]
     },
     "metadata": {},
     "output_type": "display_data"
    }
   ],
   "source": [
    "#stribution before applying SMOTE\n",
    "print(\"Original class distribution:\", Counter(y_train))\n",
    "plot_class_distribution(y_train, 'Class Distribution Before SMOTE')\n",
    "#X_resampled_smote, y_resampled_smote\n",
    "# Plot class distribution after applying SMOTE\n",
    "print(\"SMOTE class distribution:\", Counter(y_resampled_smote))\n",
    "plot_class_distribution(y_resampled_smote, 'Class Distribution After SMOTE')"
   ]
  },
  {
   "cell_type": "code",
   "execution_count": null,
   "id": "e57d9903-e48f-40ec-ab2b-e21d266ea077",
   "metadata": {},
   "outputs": [],
   "source": []
  },
  {
   "cell_type": "code",
   "execution_count": 11,
   "id": "Zeq_u4em1aQ3",
   "metadata": {
    "colab": {
     "base_uri": "https://localhost:8080/"
    },
    "executionInfo": {
     "elapsed": 500,
     "status": "ok",
     "timestamp": 1724385227263,
     "user": {
      "displayName": "Vidushinie S.K.",
      "userId": "11550788826372602114"
     },
     "user_tz": -330
    },
    "id": "Zeq_u4em1aQ3",
    "outputId": "530cee2e-8117-45d2-b2a0-a37ef8d44d10"
   },
   "outputs": [
    {
     "name": "stdout",
     "output_type": "stream",
     "text": [
      "Size of majority class before upsampling: 12036\n",
      "Size of minority class before upsampling: 2232\n"
     ]
    }
   ],
   "source": [
    "#separate majority and minority classes\n",
    "majority_class = X_train_backup[y_train_backup == 0]\n",
    "minority_class = X_train_backup[y_train_backup == 1]\n",
    "\n",
    "print(\"Size of majority class before upsampling:\", majority_class.shape[0])\n",
    "print(\"Size of minority class before upsampling:\", minority_class.shape[0])"
   ]
  },
  {
   "cell_type": "raw",
   "id": "b5736476-685b-425f-8458-9bfd493ff6ee",
   "metadata": {
    "colab": {
     "base_uri": "https://localhost:8080/"
    },
    "executionInfo": {
     "elapsed": 454,
     "status": "ok",
     "timestamp": 1724385229248,
     "user": {
      "displayName": "Vidushinie S.K.",
      "userId": "11550788826372602114"
     },
     "user_tz": -330
    },
    "id": "e-IzNKZW1jh3",
    "outputId": "b4cc1f94-a759-483b-fe63-bd40133b3aa5"
   },
   "source": [
    "#downsample majority class\n",
    "majority_downsampled = resample(majority_class,\n",
    "replace=False,\n",
    "n_samples=len(minority_class),\n",
    "random_state=28)\n",
    "\n",
    "X_downsampled = np.vstack([majority_downsampled, minority_class])\n",
    "y_downsampled = np.concatenate([np.zeros(len(minority_class)), np.ones(len(minority_class))])\n",
    "\n",
    "#shuffle data\n",
    "shuffle_indices = np.arange(len(X_downsampled))\n",
    "np.random.shuffle(shuffle_indices)\n",
    "X_downsampled = X_downsampled[shuffle_indices]\n",
    "y_downsampled = y_downsampled[shuffle_indices]\n",
    "\n",
    "unique_classes, class_counts = np.unique(y_downsampled, return_counts=True)\n",
    "print(\"Class counts after downsampling:\")\n",
    "for cls, count in zip(unique_classes, class_counts):\n",
    "  print(f\"Class {int(cls)}: {count}\")\n",
    "\n"
   ]
  },
  {
   "cell_type": "markdown",
   "id": "4b469a57-fbc1-486a-902c-8456e8ef9d6f",
   "metadata": {
    "id": "4b469a57-fbc1-486a-902c-8456e8ef9d6f"
   },
   "source": [
    "### Logistic Regression"
   ]
  },
  {
   "cell_type": "code",
   "execution_count": 23,
   "id": "20b9697c-9ccb-49dd-a851-8f0547369341",
   "metadata": {
    "colab": {
     "base_uri": "https://localhost:8080/"
    },
    "executionInfo": {
     "elapsed": 327,
     "status": "ok",
     "timestamp": 1724385394901,
     "user": {
      "displayName": "Vidushinie S.K.",
      "userId": "11550788826372602114"
     },
     "user_tz": -330
    },
    "id": "20b9697c-9ccb-49dd-a851-8f0547369341",
    "outputId": "91400db9-8958-42cf-c4fc-a66f4a33c894"
   },
   "outputs": [
    {
     "name": "stdout",
     "output_type": "stream",
     "text": [
      "Accuracy score of this model:  58.04 %\n",
      "Misclassification rate of this model:  41.96 %\n",
      "\n",
      "Report card of this model: \n",
      "              precision    recall  f1-score   support\n",
      "\n",
      "           0      0.871     0.589     0.703      3004\n",
      "           1      0.196     0.534     0.287       564\n",
      "\n",
      "    accuracy                          0.580      3568\n",
      "   macro avg      0.533     0.561     0.495      3568\n",
      "weighted avg      0.764     0.580     0.637      3568\n",
      "\n",
      "Confusion Matrix:\n",
      "+-----------------+----------------------+----------------------+\n",
      "|                 |   Predicted Negative |   Predicted Positive |\n",
      "+=================+======================+======================+\n",
      "| Actual Negative |                 1770 |                 1234 |\n",
      "+-----------------+----------------------+----------------------+\n",
      "| Actual Positive |                  263 |                  301 |\n",
      "+-----------------+----------------------+----------------------+\n"
     ]
    }
   ],
   "source": [
    "lr = LogisticRegression()\n",
    "result = lr.fit(X_resampled_smote, y_resampled_smote)\n",
    "y_pred = lr.predict(X_test)\n",
    "\n",
    "accuracy = round(metrics.accuracy_score(y_test, y_pred)*100, 2)\n",
    "print(\"Accuracy score of this model: \", accuracy, \"%\")\n",
    "\n",
    "misclassification_rate = round(np.mean(y_test != y_pred)*100, 2)\n",
    "print(\"Misclassification rate of this model: \", misclassification_rate, \"%\")\n",
    "\n",
    "print(\"\\nReport card of this model: \")\n",
    "print(metrics.classification_report(y_test, y_pred, digits=3))\n",
    "\n",
    "conf_matrix = metrics.confusion_matrix(y_test, y_pred)\n",
    "labels = ['Actual Negative', 'Actual Positive']\n",
    "columns = ['Predicted Negative', 'Predicted Positive']\n",
    "confusion_table = tabulate(conf_matrix, headers=columns, showindex=labels, tablefmt='grid')\n",
    "print(\"Confusion Matrix:\")\n",
    "print(confusion_table)"
   ]
  },
  {
   "cell_type": "markdown",
   "id": "578b0b83-b224-48f3-b9b2-f7e28db7bde2",
   "metadata": {
    "id": "578b0b83-b224-48f3-b9b2-f7e28db7bde2"
   },
   "source": [
    "### Decision Trees"
   ]
  },
  {
   "cell_type": "code",
   "execution_count": 24,
   "id": "96fdff9a-a356-45f8-b79b-d53a5c996e84",
   "metadata": {
    "colab": {
     "base_uri": "https://localhost:8080/"
    },
    "executionInfo": {
     "elapsed": 14681,
     "status": "ok",
     "timestamp": 1724385377256,
     "user": {
      "displayName": "Vidushinie S.K.",
      "userId": "11550788826372602114"
     },
     "user_tz": -330
    },
    "id": "96fdff9a-a356-45f8-b79b-d53a5c996e84",
    "outputId": "d1d6b11a-e543-4673-c572-1d756e4a4656"
   },
   "outputs": [
    {
     "name": "stdout",
     "output_type": "stream",
     "text": [
      "{'max_depth': None, 'max_features': None, 'min_samples_leaf': 2, 'min_samples_split': 2}\n",
      "0.8085808482614528\n"
     ]
    }
   ],
   "source": [
    "dt = DecisionTreeClassifier(random_state=28)\n",
    "param_grid = {\n",
    "    'max_depth': [3, 4, 5, None],\n",
    "    'min_samples_split': [2, 3, 4],\n",
    "    'min_samples_leaf': [1, 2, 3],\n",
    "    'max_features': ['auto', 'log2',None]\n",
    "}\n",
    "\n",
    "# Create the GridSearchCV object\n",
    "grid_search = GridSearchCV(estimator=dt, param_grid=param_grid, cv=5, n_jobs=-1)\n",
    "\n",
    "# Fit the GridSearchCV object to the data\n",
    "grid_search.fit(X_resampled_smote, y_resampled_smote)\n",
    "\n",
    "# Print the best hyperparameters\n",
    "print(grid_search.best_params_)\n",
    "\n",
    "# Print the best score\n",
    "print(grid_search.best_score_)"
   ]
  },
  {
   "cell_type": "code",
   "execution_count": 22,
   "id": "4b0b3513-f286-43f7-893a-caf3d83466c7",
   "metadata": {
    "colab": {
     "base_uri": "https://localhost:8080/"
    },
    "executionInfo": {
     "elapsed": 917,
     "status": "ok",
     "timestamp": 1724385391470,
     "user": {
      "displayName": "Vidushinie S.K.",
      "userId": "11550788826372602114"
     },
     "user_tz": -330
    },
    "id": "4b0b3513-f286-43f7-893a-caf3d83466c7",
    "outputId": "d18c177e-5b2f-4f83-b66c-9ad13ea9e844"
   },
   "outputs": [
    {
     "name": "stdout",
     "output_type": "stream",
     "text": [
      "Accuracy score of this model:  57.6 %\n",
      "Misclassification rate of this model:  42.4 %\n",
      "\n",
      "Report card of this model: \n",
      "              precision    recall  f1-score   support\n",
      "\n",
      "           0      0.867     0.586     0.699      3004\n",
      "           1      0.192     0.523     0.281       564\n",
      "\n",
      "    accuracy                          0.576      3568\n",
      "   macro avg      0.530     0.554     0.490      3568\n",
      "weighted avg      0.761     0.576     0.633      3568\n",
      "\n",
      "Confusion Matrix:\n",
      "+-----------------+----------------------+----------------------+\n",
      "|                 |   Predicted Negative |   Predicted Positive |\n",
      "+=================+======================+======================+\n",
      "| Actual Negative |                 1760 |                 1244 |\n",
      "+-----------------+----------------------+----------------------+\n",
      "| Actual Positive |                  269 |                  295 |\n",
      "+-----------------+----------------------+----------------------+\n"
     ]
    }
   ],
   "source": [
    "dtree = DecisionTreeClassifier(max_depth = None,  min_samples_split = 2, min_samples_leaf = 2, max_features = None, random_state = 28)\n",
    "dtree.fit(X_resampled_smote, y_resampled_smote)\n",
    "y_pred = dtree.predict(X_test)\n",
    "\n",
    "accuracy = round(metrics.accuracy_score(y_test, y_pred)*100, 2)\n",
    "print(\"Accuracy score of this model: \", accuracy, \"%\")\n",
    "\n",
    "misclassification_rate = round(np.mean(y_test != y_pred)*100, 2)\n",
    "print(\"Misclassification rate of this model: \", misclassification_rate, \"%\")\n",
    "\n",
    "print(\"\\nReport card of this model: \")\n",
    "print(metrics.classification_report(y_test, y_pred, digits=3))\n",
    "\n",
    "conf_matrix = metrics.confusion_matrix(y_test, y_pred)\n",
    "labels = ['Actual Negative', 'Actual Positive']\n",
    "columns = ['Predicted Negative', 'Predicted Positive']\n",
    "confusion_table = tabulate(conf_matrix, headers=columns, showindex=labels, tablefmt='grid')\n",
    "print(\"Confusion Matrix:\")\n",
    "print(confusion_table)"
   ]
  },
  {
   "cell_type": "markdown",
   "id": "b881d70d-62d2-4749-8a87-241b1e6b61a9",
   "metadata": {
    "id": "b881d70d-62d2-4749-8a87-241b1e6b61a9"
   },
   "source": [
    "### Random Forest"
   ]
  },
  {
   "cell_type": "code",
   "execution_count": null,
   "id": "38ce3c91-7fc8-44f6-888e-6dec6a98a678",
   "metadata": {
    "colab": {
     "base_uri": "https://localhost:8080/"
    },
    "executionInfo": {
     "elapsed": 1950177,
     "status": "ok",
     "timestamp": 1724397699264,
     "user": {
      "displayName": "Vidushinie S.K.",
      "userId": "11550788826372602114"
     },
     "user_tz": -330
    },
    "id": "38ce3c91-7fc8-44f6-888e-6dec6a98a678",
    "outputId": "8bbd670d-45b8-443e-ee72-58bcb47d9ae4"
   },
   "outputs": [],
   "source": [
    "np.random.seed(28)\n",
    "\n",
    "rf = RandomForestClassifier(random_state=28)\n",
    "param_grid = {\n",
    "    'n_estimators': [50, 80, 100, 120, 150],\n",
    "    'max_depth': [3, 4, 5, None],\n",
    "    'min_samples_split': [2, 3, 4],\n",
    "    'min_samples_leaf': [1, 2, 3],\n",
    "    'max_features': ['auto', 'log2',None]\n",
    "}\n",
    "\n",
    "# Create the GridSearchCV object\n",
    "grid_search = GridSearchCV(estimator=rf, param_grid=param_grid, cv=5, n_jobs=-1)\n",
    "\n",
    "# Fit the GridSearchCV object to the data\n",
    "grid_search.fit(X_resampled_smote, y_resampled_smote)\n",
    "\n",
    "# Print the best hyperparameters\n",
    "print(grid_search.best_params_)\n",
    "\n",
    "# Print the best score\n",
    "print(grid_search.best_score_)"
   ]
  },
  {
   "cell_type": "code",
   "execution_count": 62,
   "id": "5b5e5dbc-3a92-4a34-a40f-8356716cc72c",
   "metadata": {
    "colab": {
     "base_uri": "https://localhost:8080/"
    },
    "executionInfo": {
     "elapsed": 1742,
     "status": "ok",
     "timestamp": 1724397886454,
     "user": {
      "displayName": "Vidushinie S.K.",
      "userId": "11550788826372602114"
     },
     "user_tz": -330
    },
    "id": "5b5e5dbc-3a92-4a34-a40f-8356716cc72c",
    "outputId": "7ba1b95d-d472-4e3b-953c-b865427caee0"
   },
   "outputs": [
    {
     "name": "stdout",
     "output_type": "stream",
     "text": [
      "Accuracy score of this model:  54.68 %\n",
      "Misclassification rate of this model:  45.32 %\n",
      "\n",
      "Report card of this model: \n",
      "              precision    recall  f1-score   support\n",
      "\n",
      "           0      0.912     0.511     0.655      3004\n",
      "           1      0.221     0.738     0.340       564\n",
      "\n",
      "    accuracy                          0.547      3568\n",
      "   macro avg      0.566     0.624     0.497      3568\n",
      "weighted avg      0.803     0.547     0.605      3568\n",
      "\n",
      "Confusion Matrix:\n",
      "+-----------------+----------------------+----------------------+\n",
      "|                 |   Predicted Negative |   Predicted Positive |\n",
      "+=================+======================+======================+\n",
      "| Actual Negative |                 1535 |                 1469 |\n",
      "+-----------------+----------------------+----------------------+\n",
      "| Actual Positive |                  148 |                  416 |\n",
      "+-----------------+----------------------+----------------------+\n"
     ]
    }
   ],
   "source": [
    "rf = RandomForestClassifier(n_estimators=80, max_depth=4, max_features='log2', min_samples_leaf=3, min_samples_split=2, random_state=28)\n",
    "rf.fit(X_resampled_smote, y_resampled_smote)\n",
    "y_pred = rf.predict(X_test)\n",
    "\n",
    "accuracy = round(metrics.accuracy_score(y_test, y_pred)*100, 2)\n",
    "print(\"Accuracy score of this model: \", accuracy, \"%\")\n",
    "\n",
    "misclassification_rate = round(np.mean(y_test != y_pred)*100, 2)\n",
    "print(\"Misclassification rate of this model: \", misclassification_rate, \"%\")\n",
    "\n",
    "print(\"\\nReport card of this model: \")\n",
    "print(metrics.classification_report(y_test, y_pred, digits=3))\n",
    "\n",
    "conf_matrix = metrics.confusion_matrix(y_test, y_pred)\n",
    "labels = ['Actual Negative', 'Actual Positive']\n",
    "columns = ['Predicted Negative', 'Predicted Positive']\n",
    "confusion_table = tabulate(conf_matrix, headers=columns, showindex=labels, tablefmt='grid')\n",
    "print(\"Confusion Matrix:\")\n",
    "print(confusion_table)"
   ]
  },
  {
   "cell_type": "markdown",
   "id": "9b9f4c51-a685-4c09-a9f5-b6490f12e96b",
   "metadata": {
    "id": "9b9f4c51-a685-4c09-a9f5-b6490f12e96b"
   },
   "source": [
    "### Ada boosting"
   ]
  },
  {
   "cell_type": "code",
   "execution_count": null,
   "id": "8ca21bb1-e16d-45cf-a923-67ef3f12ea87",
   "metadata": {
    "colab": {
     "base_uri": "https://localhost:8080/"
    },
    "executionInfo": {
     "elapsed": 164194,
     "status": "ok",
     "timestamp": 1724386396790,
     "user": {
      "displayName": "Vidushinie S.K.",
      "userId": "11550788826372602114"
     },
     "user_tz": -330
    },
    "id": "8ca21bb1-e16d-45cf-a923-67ef3f12ea87",
    "outputId": "ea11d22f-0a63-4b52-ecea-dce3e7ec724b"
   },
   "outputs": [],
   "source": [
    "np.random.seed(28)\n",
    "\n",
    "ada_classifier = AdaBoostClassifier(random_state=28)\n",
    "\n",
    "param_grid = {\n",
    "    'n_estimators': [50, 80, 100, 120, 150],\n",
    "    'learning_rate': [0.01, 0.1, 0.5, 1.0],\n",
    "        'algorithm': ['SAMME', 'SAMME.R']\n",
    "}\n",
    "\n",
    "grid_search = GridSearchCV(estimator=ada_classifier, param_grid=param_grid, cv=5, n_jobs=-1)\n",
    "\n",
    "grid_search.fit(X_resampled_smote, y_resampled_smote)\n",
    "\n",
    "print(\"Best Hyperparameters:\", grid_search.best_params_)\n",
    "\n",
    "print(\"Best Score:\", grid_search.best_score_)"
   ]
  },
  {
   "cell_type": "code",
   "execution_count": null,
   "id": "66787f10-98c9-42cb-90e6-befb7fdc1de3",
   "metadata": {
    "colab": {
     "base_uri": "https://localhost:8080/"
    },
    "executionInfo": {
     "elapsed": 3494,
     "status": "ok",
     "timestamp": 1724386462002,
     "user": {
      "displayName": "Vidushinie S.K.",
      "userId": "11550788826372602114"
     },
     "user_tz": -330
    },
    "id": "66787f10-98c9-42cb-90e6-befb7fdc1de3",
    "outputId": "fe145ab2-5a92-4e2b-83e9-8fa499e33f9a"
   },
   "outputs": [],
   "source": [
    "ada_classifier = AdaBoostClassifier(n_estimators=150, learning_rate=1.0, algorithm='SAMME', random_state=28)\n",
    "\n",
    "ada_classifier.fit(X_resampled_smote, y_resampled_smote)\n",
    "\n",
    "y_pred_ada = ada_classifier.predict(X_test)\n",
    "\n",
    "accuracy = round(metrics.accuracy_score(y_test, y_pred_ada) * 100, 2)\n",
    "print(\"Accuracy score of this model: \", accuracy, \"%\")\n",
    "\n",
    "misclassification_rate = round(np.mean(y_test != y_pred_ada) * 100, 2)\n",
    "print(\"Misclassification rate of this model: \", misclassification_rate, \"%\")\n",
    "\n",
    "print(\"\\nReport card of this model: \")\n",
    "print(metrics.classification_report(y_test, y_pred_ada, digits=3))\n",
    "\n",
    "conf_matrix = metrics.confusion_matrix(y_test, y_pred_ada)\n",
    "labels = ['Actual Negative', 'Actual Positive']\n",
    "columns = ['Predicted Negative', 'Predicted Positive']\n",
    "confusion_table = tabulate(conf_matrix, headers=columns, showindex=labels, tablefmt='grid')\n",
    "print(\"Confusion Matrix:\")\n",
    "print(confusion_table)"
   ]
  },
  {
   "cell_type": "markdown",
   "id": "5fee765d-57f1-4e2a-88af-5819246278a0",
   "metadata": {
    "id": "5fee765d-57f1-4e2a-88af-5819246278a0"
   },
   "source": [
    "### Gradient Boosting"
   ]
  },
  {
   "cell_type": "code",
   "execution_count": null,
   "id": "c8a3db3c-3ffa-4d83-9d90-970f79ac31a6",
   "metadata": {
    "colab": {
     "base_uri": "https://localhost:8080/"
    },
    "executionInfo": {
     "elapsed": 778706,
     "status": "ok",
     "timestamp": 1724387244457,
     "user": {
      "displayName": "Vidushinie S.K.",
      "userId": "11550788826372602114"
     },
     "user_tz": -330
    },
    "id": "c8a3db3c-3ffa-4d83-9d90-970f79ac31a6",
    "outputId": "b0d78578-c845-4a9d-e4bc-d1f04a98cbdb"
   },
   "outputs": [],
   "source": [
    "np.random.seed(28)\n",
    "\n",
    "gb_classifier = GradientBoostingClassifier(random_state=28)\n",
    "\n",
    "param_grid = {\n",
    "    'n_estimators': [50, 80, 100, 120, 150],\n",
    "    'learning_rate': [0.05, 0.1, 0.2],\n",
    "    'max_depth': [3, 4, 5, None],\n",
    "}\n",
    "\n",
    "grid_search = GridSearchCV(estimator=gb_classifier, param_grid=param_grid, cv=5, n_jobs=-1)\n",
    "grid_search.fit(X_downsampled, y_downsampled)\n",
    "\n",
    "print(\"Best Hyperparameters:\", grid_search.best_params_)\n",
    "\n",
    "print(\"Best Score:\", grid_search.best_score_)"
   ]
  },
  {
   "cell_type": "code",
   "execution_count": null,
   "id": "b5f858d4-276e-4181-bc70-89a9a74131ea",
   "metadata": {
    "colab": {
     "base_uri": "https://localhost:8080/"
    },
    "executionInfo": {
     "elapsed": 4156,
     "status": "ok",
     "timestamp": 1724387402033,
     "user": {
      "displayName": "Vidushinie S.K.",
      "userId": "11550788826372602114"
     },
     "user_tz": -330
    },
    "id": "b5f858d4-276e-4181-bc70-89a9a74131ea",
    "outputId": "ccb9271b-671d-4e5b-af81-35b3094343be"
   },
   "outputs": [
    {
     "name": "stdout",
     "output_type": "stream",
     "text": [
      "Accuracy score of this model:  62.22 %\n",
      "Misclassification rate of this model:  37.78 %\n",
      "\n",
      "Report card of this model: \n",
      "              precision    recall  f1-score   support\n",
      "\n",
      "           0      0.913     0.610     0.731      3004\n",
      "           1      0.249     0.690     0.366       564\n",
      "\n",
      "    accuracy                          0.622      3568\n",
      "   macro avg      0.581     0.650     0.548      3568\n",
      "weighted avg      0.808     0.622     0.673      3568\n",
      "\n",
      "Confusion Matrix:\n",
      "+-----------------+----------------------+----------------------+\n",
      "|                 |   Predicted Negative |   Predicted Positive |\n",
      "+=================+======================+======================+\n",
      "| Actual Negative |                 1831 |                 1173 |\n",
      "+-----------------+----------------------+----------------------+\n",
      "| Actual Positive |                  175 |                  389 |\n",
      "+-----------------+----------------------+----------------------+\n"
     ]
    }
   ],
   "source": [
    "gb_classifier = GradientBoostingClassifier(n_estimators=150, learning_rate=0.05, max_depth = 3, random_state=28)\n",
    "gb_classifier.fit(X_resampled_smote, y_resampled_smote)\n",
    "y_pred = gb_classifier.predict(X_test)\n",
    "\n",
    "accuracy = round(metrics.accuracy_score(y_test, y_pred)*100, 2)\n",
    "print(\"Accuracy score of this model: \", accuracy, \"%\")\n",
    "\n",
    "misclassification_rate = round(np.mean(y_test != y_pred)*100, 2)\n",
    "print(\"Misclassification rate of this model: \", misclassification_rate, \"%\")\n",
    "\n",
    "print(\"\\nReport card of this model: \")\n",
    "print(metrics.classification_report(y_test, y_pred, digits=3))\n",
    "\n",
    "conf_matrix = metrics.confusion_matrix(y_test, y_pred)\n",
    "labels = ['Actual Negative', 'Actual Positive']\n",
    "columns = ['Predicted Negative', 'Predicted Positive']\n",
    "confusion_table = tabulate(conf_matrix, headers=columns, showindex=labels, tablefmt='grid')\n",
    "print(\"Confusion Matrix:\")\n",
    "print(confusion_table)"
   ]
  },
  {
   "cell_type": "markdown",
   "id": "7c2eab89-68b6-4b66-8da7-a037cf553c74",
   "metadata": {
    "id": "7c2eab89-68b6-4b66-8da7-a037cf553c74"
   },
   "source": [
    "### Multilayer Perceptron"
   ]
  },
  {
   "cell_type": "code",
   "execution_count": null,
   "id": "74f90d43-5365-4341-a468-1cdd3a788879",
   "metadata": {
    "id": "74f90d43-5365-4341-a468-1cdd3a788879"
   },
   "outputs": [],
   "source": [
    "scaler = StandardScaler()\n",
    "X_train_scaled = scaler.fit_transform(X_resampled_smote)\n",
    "X_test_scaled = scaler.transform(X_test)\n",
    "\n",
    "\n",
    "#(X_resampled_smote, y_resampled_smote)"
   ]
  },
  {
   "cell_type": "code",
   "execution_count": null,
   "id": "518bd070-2c80-4c0a-ad81-2b559a071bf6",
   "metadata": {
    "colab": {
     "base_uri": "https://localhost:8080/"
    },
    "executionInfo": {
     "elapsed": 41503,
     "status": "ok",
     "timestamp": 1724387451005,
     "user": {
      "displayName": "Vidushinie S.K.",
      "userId": "11550788826372602114"
     },
     "user_tz": -330
    },
    "id": "518bd070-2c80-4c0a-ad81-2b559a071bf6",
    "outputId": "165c2cae-6f6e-42a4-ffe0-617daec207ea"
   },
   "outputs": [
    {
     "name": "stdout",
     "output_type": "stream",
     "text": [
      "Accuracy score of this model:  58.77 %\n",
      "Misclassification rate of this model:  41.23 %\n",
      "\n",
      "Report card of this model: \n",
      "              precision    recall  f1-score   support\n",
      "\n",
      "           0      0.877     0.594     0.708      3004\n",
      "           1      0.205     0.557     0.299       564\n",
      "\n",
      "    accuracy                          0.588      3568\n",
      "   macro avg      0.541     0.575     0.504      3568\n",
      "weighted avg      0.771     0.588     0.643      3568\n",
      "\n",
      "Confusion Matrix:\n",
      "+-----------------+----------------------+----------------------+\n",
      "|                 |   Predicted Negative |   Predicted Positive |\n",
      "+=================+======================+======================+\n",
      "| Actual Negative |                 1783 |                 1221 |\n",
      "+-----------------+----------------------+----------------------+\n",
      "| Actual Positive |                  250 |                  314 |\n",
      "+-----------------+----------------------+----------------------+\n"
     ]
    }
   ],
   "source": [
    "mlp = MLPClassifier(hidden_layer_sizes=(100,), activation='relu', solver='adam',alpha=0.0001, max_iter=1000, random_state=42)\n",
    "mlp.fit(X_train_scaled, y_resampled_smote)\n",
    "y_pred = mlp.predict(X_test_scaled)\n",
    "\n",
    "accuracy = round(metrics.accuracy_score(y_test, y_pred)*100, 2)\n",
    "print(\"Accuracy score of this model: \", accuracy, \"%\")\n",
    "\n",
    "misclassification_rate = round(np.mean(y_test != y_pred)*100, 2)\n",
    "print(\"Misclassification rate of this model: \", misclassification_rate, \"%\")\n",
    "\n",
    "print(\"\\nReport card of this model: \")\n",
    "print(metrics.classification_report(y_test, y_pred, digits=3))\n",
    "\n",
    "conf_matrix = metrics.confusion_matrix(y_test, y_pred)\n",
    "labels = ['Actual Negative', 'Actual Positive']\n",
    "columns = ['Predicted Negative', 'Predicted Positive']\n",
    "confusion_table = tabulate(conf_matrix, headers=columns, showindex=labels, tablefmt='grid')\n",
    "print(\"Confusion Matrix:\")\n",
    "print(confusion_table)"
   ]
  },
  {
   "cell_type": "markdown",
   "id": "7f35e025-9bfe-42bb-862f-c1685feba7bb",
   "metadata": {
    "id": "7f35e025-9bfe-42bb-862f-c1685feba7bb"
   },
   "source": [
    "### k Nearest Neighbours"
   ]
  },
  {
   "cell_type": "code",
   "execution_count": null,
   "id": "bd8c765b-682e-4157-ae43-db222cd4be9b",
   "metadata": {
    "colab": {
     "base_uri": "https://localhost:8080/"
    },
    "executionInfo": {
     "elapsed": 11769,
     "status": "ok",
     "timestamp": 1724387527285,
     "user": {
      "displayName": "Vidushinie S.K.",
      "userId": "11550788826372602114"
     },
     "user_tz": -330
    },
    "id": "bd8c765b-682e-4157-ae43-db222cd4be9b",
    "outputId": "e9b3e2c2-9c26-46e2-ccca-d0b93519b62a"
   },
   "outputs": [
    {
     "name": "stdout",
     "output_type": "stream",
     "text": [
      "Best Hyperparameters: {'metric': 'manhattan', 'n_neighbors': 7, 'weights': 'uniform'}\n",
      "Best Score: 0.5291263891050975\n"
     ]
    }
   ],
   "source": [
    "\n",
    "\n",
    "np.random.seed(28)\n",
    "\n",
    "# Initialize KNN classifier\n",
    "knn_classifier = KNeighborsClassifier()\n",
    "\n",
    "# Define parameter grid for KNN\n",
    "param_grid = {\n",
    "    'n_neighbors': [3, 5, 7, 9, 11, 13, 15],\n",
    "    'weights': ['uniform', 'distance'],\n",
    "    'metric': ['euclidean', 'manhattan', 'minkowski']\n",
    "}\n",
    "\n",
    "# Perform Grid Search with cross-validation\n",
    "grid_search = GridSearchCV(estimator=knn_classifier, param_grid=param_grid, cv=5, n_jobs=-1)\n",
    "\n",
    "# Fit the model\n",
    "grid_search.fit(X_resampled_smote, y_resampled_smote)\n",
    "\n",
    "\n",
    "# Display best hyperparameters and best score\n",
    "print(\"Best Hyperparameters:\", grid_search.best_params_)\n",
    "print(\"Best Score:\", grid_search.best_score_)\n"
   ]
  },
  {
   "cell_type": "code",
   "execution_count": null,
   "id": "116765c8-1435-4136-92da-43b838277592",
   "metadata": {
    "colab": {
     "base_uri": "https://localhost:8080/"
    },
    "executionInfo": {
     "elapsed": 934,
     "status": "ok",
     "timestamp": 1724387547167,
     "user": {
      "displayName": "Vidushinie S.K.",
      "userId": "11550788826372602114"
     },
     "user_tz": -330
    },
    "id": "116765c8-1435-4136-92da-43b838277592",
    "outputId": "bc5c89e7-1d0c-427d-8bd6-c8e715ef5334"
   },
   "outputs": [
    {
     "name": "stdout",
     "output_type": "stream",
     "text": [
      "Accuracy score of this model:  52.47 %\n",
      "Misclassification rate of this model:  47.53 %\n",
      "\n",
      "Report card of this model: \n",
      "              precision    recall  f1-score   support\n",
      "\n",
      "           0      0.861     0.519     0.648      3004\n",
      "           1      0.178     0.553     0.269       564\n",
      "\n",
      "    accuracy                          0.525      3568\n",
      "   macro avg      0.519     0.536     0.458      3568\n",
      "weighted avg      0.753     0.525     0.588      3568\n",
      "\n",
      "Confusion Matrix:\n",
      "+-----------------+----------------------+----------------------+\n",
      "|                 |   Predicted Negative |   Predicted Positive |\n",
      "+=================+======================+======================+\n",
      "| Actual Negative |                 1560 |                 1444 |\n",
      "+-----------------+----------------------+----------------------+\n",
      "| Actual Positive |                  252 |                  312 |\n",
      "+-----------------+----------------------+----------------------+\n"
     ]
    }
   ],
   "source": [
    "# Use the best estimator from GridSearchCV to predict on test data\n",
    "knn_classifier = KNeighborsClassifier(metric = 'manhattan', n_neighbors =  7, weights = 'uniform')\n",
    "knn_classifier.fit(X_resampled_smote, y_resampled_smote)\n",
    "\n",
    "y_pred_knn = knn_classifier.predict(X_test)\n",
    "\n",
    "# Calculate accuracy and misclassification rate\n",
    "accuracy = round(metrics.accuracy_score(y_test, y_pred_knn) * 100, 2)\n",
    "print(\"Accuracy score of this model: \", accuracy, \"%\")\n",
    "\n",
    "misclassification_rate = round(np.mean(y_test != y_pred_knn) * 100, 2)\n",
    "print(\"Misclassification rate of this model: \", misclassification_rate, \"%\")\n",
    "\n",
    "# Print classification report\n",
    "print(\"\\nReport card of this model: \")\n",
    "print(metrics.classification_report(y_test, y_pred_knn, digits=3))\n",
    "\n",
    "# Print confusion matrix\n",
    "conf_matrix = metrics.confusion_matrix(y_test, y_pred_knn)\n",
    "labels = ['Actual Negative', 'Actual Positive']\n",
    "columns = ['Predicted Negative', 'Predicted Positive']\n",
    "confusion_table = tabulate(conf_matrix, headers=columns, showindex=labels, tablefmt='grid')\n",
    "print(\"Confusion Matrix:\")\n",
    "print(confusion_table)"
   ]
  },
  {
   "cell_type": "markdown",
   "id": "4252ed27-1c6f-4ce6-8959-bf17da9a4098",
   "metadata": {
    "id": "4252ed27-1c6f-4ce6-8959-bf17da9a4098"
   },
   "source": [
    "### Support Vector Machines"
   ]
  },
  {
   "cell_type": "code",
   "execution_count": 59,
   "id": "02b4e9d1-73b3-48b4-9da7-c84513be195a",
   "metadata": {
    "colab": {
     "base_uri": "https://localhost:8080/"
    },
    "executionInfo": {
     "elapsed": 20639,
     "status": "ok",
     "timestamp": 1724395680241,
     "user": {
      "displayName": "Vidushinie S.K.",
      "userId": "11550788826372602114"
     },
     "user_tz": -330
    },
    "id": "02b4e9d1-73b3-48b4-9da7-c84513be195a",
    "outputId": "f56e1296-d986-42c3-b02d-f5764211aa21"
   },
   "outputs": [
    {
     "name": "stdout",
     "output_type": "stream",
     "text": [
      "[0.49955207166853305, 0.4997762869151698, 0.49955207166853305, 0.49955207166853305]\n"
     ]
    }
   ],
   "source": [
    "np.random.seed(28)\n",
    "\n",
    "g = [0.0001, 0.001, 0.01, 0.1]\n",
    "hist = []\n",
    "for val in g:\n",
    "  clf = SVC(gamma=val)\n",
    "  cross_val = cross_val_score(clf,X_resampled_smote, y_resampled_smote, cv=5)\n",
    "  hist.append(np.mean(cross_val))\n",
    "print(hist)\n",
    "  #plt.plot([str(i) for i in g], hist)\n",
    "  #plt.title('Cross Validations score for SVC')\n",
    "  #plt.xlabel('gamma')\n",
    "  #plt.ylabel('Accuracy')\n",
    "  #plt.grid()\n",
    "  #plt.show()"
   ]
  },
  {
   "cell_type": "code",
   "execution_count": 60,
   "id": "2365da1e-1437-47d9-afe6-436440831f18",
   "metadata": {
    "colab": {
     "base_uri": "https://localhost:8080/"
    },
    "executionInfo": {
     "elapsed": 6261,
     "status": "ok",
     "timestamp": 1724395734892,
     "user": {
      "displayName": "Vidushinie S.K.",
      "userId": "11550788826372602114"
     },
     "user_tz": -330
    },
    "id": "2365da1e-1437-47d9-afe6-436440831f18",
    "outputId": "03ba3356-5832-4038-9f34-f2f30151ceb4"
   },
   "outputs": [
    {
     "name": "stdout",
     "output_type": "stream",
     "text": [
      "Accuracy score of this model:  84.19 %\n",
      "Misclassification rate of this model:  15.81 %\n",
      "\n",
      "Report card of this model: \n",
      "              precision    recall  f1-score   support\n",
      "\n",
      "           0      0.842     1.000     0.914      3004\n",
      "           1      0.000     0.000     0.000       564\n",
      "\n",
      "    accuracy                          0.842      3568\n",
      "   macro avg      0.421     0.500     0.457      3568\n",
      "weighted avg      0.709     0.842     0.770      3568\n",
      "\n",
      "Confusion Matrix:\n",
      "+-----------------+----------------------+----------------------+\n",
      "|                 |   Predicted Negative |   Predicted Positive |\n",
      "+=================+======================+======================+\n",
      "| Actual Negative |                 3004 |                    0 |\n",
      "+-----------------+----------------------+----------------------+\n",
      "| Actual Positive |                  564 |                    0 |\n",
      "+-----------------+----------------------+----------------------+\n"
     ]
    }
   ],
   "source": [
    "# Use the best estimator from GridSearchCV to predict on test data\n",
    "svm_classifier = SVC(gamma=0.001)\n",
    "svm_classifier.fit(X_resampled_smote, y_resampled_smote)\n",
    "\n",
    "y_pred_svm = svm_classifier.predict(X_test)\n",
    "\n",
    "# Calculate accuracy and misclassification rate\n",
    "accuracy = round(metrics.accuracy_score(y_test, y_pred_svm) * 100, 2)\n",
    "print(\"Accuracy score of this model: \", accuracy, \"%\")\n",
    "\n",
    "misclassification_rate = round(np.mean(y_test != y_pred_svm) * 100, 2)\n",
    "print(\"Misclassification rate of this model: \", misclassification_rate, \"%\")\n",
    "\n",
    "# Print classification report\n",
    "print(\"\\nReport card of this model: \")\n",
    "print(metrics.classification_report(y_test, y_pred_svm, digits=3))\n",
    "\n",
    "# Print confusion matrix\n",
    "conf_matrix = metrics.confusion_matrix(y_test, y_pred_svm)\n",
    "labels = ['Actual Negative', 'Actual Positive']\n",
    "columns = ['Predicted Negative', 'Predicted Positive']\n",
    "confusion_table = tabulate(conf_matrix, headers=columns, showindex=labels, tablefmt='grid')\n",
    "print(\"Confusion Matrix:\")\n",
    "print(confusion_table)"
   ]
  },
  {
   "cell_type": "markdown",
   "id": "a7930480-5906-4b71-80f4-d3565fe55c4f",
   "metadata": {
    "id": "a7930480-5906-4b71-80f4-d3565fe55c4f"
   },
   "source": [
    "### Naive Bias"
   ]
  },
  {
   "cell_type": "code",
   "execution_count": 53,
   "id": "240ac2ce-d4a0-4ac4-bb5b-59dea15a9f60",
   "metadata": {
    "colab": {
     "base_uri": "https://localhost:8080/"
    },
    "executionInfo": {
     "elapsed": 4225,
     "status": "ok",
     "timestamp": 1724395397448,
     "user": {
      "displayName": "Vidushinie S.K.",
      "userId": "11550788826372602114"
     },
     "user_tz": -330
    },
    "id": "240ac2ce-d4a0-4ac4-bb5b-59dea15a9f60",
    "outputId": "a5b1785e-bb10-4385-97e7-a148ebf544d7"
   },
   "outputs": [
    {
     "name": "stdout",
     "output_type": "stream",
     "text": [
      "Best Hyperparameters: {'var_smoothing': 1e-09}\n",
      "Best Score: 0.6124646603628622\n"
     ]
    }
   ],
   "source": [
    "np.random.seed(28)\n",
    "\n",
    "# Initialize Naive Bayes classifier\n",
    "nb_classifier = GaussianNB()\n",
    "\n",
    "# Define parameter grid for Naive Bayes (even though GaussianNB has few hyperparameters)\n",
    "param_grid = {\n",
    "    'var_smoothing': np.logspace(0, -9, num=100)\n",
    "}\n",
    "\n",
    "# Perform Grid Search with cross-validation\n",
    "grid_search = GridSearchCV(estimator=nb_classifier, param_grid=param_grid, cv=5, n_jobs=-1)\n",
    "\n",
    "# Fit the model\n",
    "grid_search.fit((X_resampled_smote, y_resampled_smote))\n",
    "\n",
    "# Display best hyperparameters and best score\n",
    "print(\"Best Hyperparameters:\", grid_search.best_params_)\n",
    "print(\"Best Score:\", grid_search.best_score_)"
   ]
  },
  {
   "cell_type": "code",
   "execution_count": 54,
   "id": "3e316e65-fb78-4cd9-a722-a25d5de8ad1e",
   "metadata": {
    "colab": {
     "base_uri": "https://localhost:8080/"
    },
    "executionInfo": {
     "elapsed": 362,
     "status": "ok",
     "timestamp": 1724395411055,
     "user": {
      "displayName": "Vidushinie S.K.",
      "userId": "11550788826372602114"
     },
     "user_tz": -330
    },
    "id": "3e316e65-fb78-4cd9-a722-a25d5de8ad1e",
    "outputId": "4cdb374b-fdce-43d8-df23-25140bab68ff"
   },
   "outputs": [
    {
     "name": "stdout",
     "output_type": "stream",
     "text": [
      "Accuracy score of this model:  66.62 %\n",
      "Misclassification rate of this model:  33.38 %\n",
      "\n",
      "Report card of this model: \n",
      "              precision    recall  f1-score   support\n",
      "\n",
      "           0      0.898     0.681     0.774      3004\n",
      "           1      0.257     0.589     0.358       564\n",
      "\n",
      "    accuracy                          0.666      3568\n",
      "   macro avg      0.578     0.635     0.566      3568\n",
      "weighted avg      0.797     0.666     0.709      3568\n",
      "\n",
      "Confusion Matrix:\n",
      "+-----------------+----------------------+----------------------+\n",
      "|                 |   Predicted Negative |   Predicted Positive |\n",
      "+=================+======================+======================+\n",
      "| Actual Negative |                 2045 |                  959 |\n",
      "+-----------------+----------------------+----------------------+\n",
      "| Actual Positive |                  232 |                  332 |\n",
      "+-----------------+----------------------+----------------------+\n"
     ]
    }
   ],
   "source": [
    "# Use the best estimator from GridSearchCV to predict on test data\n",
    "nb_classifier = grid_search.best_estimator_\n",
    "nb_classifier.fit((X_resampled_smote, y_resampled_smote))\n",
    "\n",
    "y_pred_nb = nb_classifier.predict(X_test)\n",
    "\n",
    "# Calculate accuracy and misclassification rate\n",
    "accuracy = round(metrics.accuracy_score(y_test, y_pred_nb) * 100, 2)\n",
    "print(\"Accuracy score of this model: \", accuracy, \"%\")\n",
    "\n",
    "misclassification_rate = round(np.mean(y_test != y_pred_nb) * 100, 2)\n",
    "print(\"Misclassification rate of this model: \", misclassification_rate, \"%\")\n",
    "\n",
    "# Print classification report\n",
    "print(\"\\nReport card of this model: \")\n",
    "print(metrics.classification_report(y_test, y_pred_nb, digits=3))\n",
    "\n",
    "# Print confusion matrix\n",
    "conf_matrix = metrics.confusion_matrix(y_test, y_pred_nb)\n",
    "labels = ['Actual Negative', 'Actual Positive']\n",
    "columns = ['Predicted Negative', 'Predicted Positive']\n",
    "confusion_table = tabulate(conf_matrix, headers=columns, showindex=labels, tablefmt='grid')\n",
    "print(\"Confusion Matrix:\")\n",
    "print(confusion_table)"
   ]
  },
  {
   "cell_type": "code",
   "execution_count": null,
   "id": "c25d268e-d7ef-4ef0-b9c0-c0f4ee18d716",
   "metadata": {
    "id": "c25d268e-d7ef-4ef0-b9c0-c0f4ee18d716"
   },
   "outputs": [],
   "source": []
  }
 ],
 "metadata": {
  "colab": {
   "provenance": []
  },
  "kernelspec": {
   "display_name": "Python 3 (ipykernel)",
   "language": "python",
   "name": "python3"
  },
  "language_info": {
   "codemirror_mode": {
    "name": "ipython",
    "version": 3
   },
   "file_extension": ".py",
   "mimetype": "text/x-python",
   "name": "python",
   "nbconvert_exporter": "python",
   "pygments_lexer": "ipython3",
   "version": "3.11.7"
  }
 },
 "nbformat": 4,
 "nbformat_minor": 5
}
